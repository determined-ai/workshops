{
 "cells": [
  {
   "cell_type": "code",
   "execution_count": null,
   "id": "d11b64ca-8290-49fe-b1d2-89fef2214157",
   "metadata": {},
   "outputs": [],
   "source": [
    "# download and save mistral cache"
   ]
  },
  {
   "cell_type": "code",
   "execution_count": null,
   "id": "a19eb6ca-b039-42f5-bf08-ffa4f3de34eb",
   "metadata": {},
   "outputs": [],
   "source": [
    "!det notebook config 15e5db1f-8129-4008-a94b-415dde6896dc > chat_nb_mistal.yaml"
   ]
  },
  {
   "cell_type": "code",
   "execution_count": null,
   "id": "76f501fe-8621-4929-9b10-539bf06dce84",
   "metadata": {},
   "outputs": [],
   "source": [
    "!det template create chat_nb_mistral chat_nb_mistal.yaml"
   ]
  },
  {
   "cell_type": "code",
   "execution_count": 1,
   "id": "dd6eb712-d438-47fb-a788-86b7338fabc5",
   "metadata": {},
   "outputs": [
    {
     "name": "stdout",
     "output_type": "stream",
     "text": [
      "4.36.0.dev0\n"
     ]
    }
   ],
   "source": [
    "from transformers import AutoTokenizer, AutoModelForCausalLM\n",
    "import transformers\n",
    "import os\n",
    "import bitsandbytes as bnb\n",
    "from transformers import  BitsAndBytesConfig\n",
    "import torch\n",
    "# os.environ['CURL_CA_BUNDLE'] = ''\n",
    "print(transformers.__version__)"
   ]
  },
  {
   "cell_type": "code",
   "execution_count": 2,
   "id": "866228c1-879c-4749-b886-9c018d39ed0e",
   "metadata": {},
   "outputs": [
    {
     "data": {
      "application/vnd.jupyter.widget-view+json": {
       "model_id": "c463193fb31845ed87de99da7bdfeab3",
       "version_major": 2,
       "version_minor": 0
      },
      "text/plain": [
       "Downloading config.json:   0%|          | 0.00/571 [00:00<?, ?B/s]"
      ]
     },
     "metadata": {},
     "output_type": "display_data"
    },
    {
     "data": {
      "application/vnd.jupyter.widget-view+json": {
       "model_id": "30ca341f4fed45c4947a61274782eb2f",
       "version_major": 2,
       "version_minor": 0
      },
      "text/plain": [
       "Downloading (…)model.bin.index.json:   0%|          | 0.00/23.9k [00:00<?, ?B/s]"
      ]
     },
     "metadata": {},
     "output_type": "display_data"
    },
    {
     "data": {
      "application/vnd.jupyter.widget-view+json": {
       "model_id": "517bfd1ddc624a52bab674fd749e4f9b",
       "version_major": 2,
       "version_minor": 0
      },
      "text/plain": [
       "Downloading shards:   0%|          | 0/2 [00:00<?, ?it/s]"
      ]
     },
     "metadata": {},
     "output_type": "display_data"
    },
    {
     "data": {
      "application/vnd.jupyter.widget-view+json": {
       "model_id": "1be313b175364e38b9917c2a455d0990",
       "version_major": 2,
       "version_minor": 0
      },
      "text/plain": [
       "Downloading (…)l-00001-of-00002.bin:   0%|          | 0.00/9.94G [00:00<?, ?B/s]"
      ]
     },
     "metadata": {},
     "output_type": "display_data"
    },
    {
     "data": {
      "application/vnd.jupyter.widget-view+json": {
       "model_id": "2ea749ac31c7451d8659119b35367440",
       "version_major": 2,
       "version_minor": 0
      },
      "text/plain": [
       "Downloading (…)l-00002-of-00002.bin:   0%|          | 0.00/5.06G [00:00<?, ?B/s]"
      ]
     },
     "metadata": {},
     "output_type": "display_data"
    },
    {
     "data": {
      "application/vnd.jupyter.widget-view+json": {
       "model_id": "f801bd2c1a514d14986d3e0984e8a77b",
       "version_major": 2,
       "version_minor": 0
      },
      "text/plain": [
       "Loading checkpoint shards:   0%|          | 0/2 [00:00<?, ?it/s]"
      ]
     },
     "metadata": {},
     "output_type": "display_data"
    },
    {
     "data": {
      "application/vnd.jupyter.widget-view+json": {
       "model_id": "dc727856cfc1440094ff5fe6ba94e848",
       "version_major": 2,
       "version_minor": 0
      },
      "text/plain": [
       "Downloading generation_config.json:   0%|          | 0.00/116 [00:00<?, ?B/s]"
      ]
     },
     "metadata": {},
     "output_type": "display_data"
    },
    {
     "data": {
      "application/vnd.jupyter.widget-view+json": {
       "model_id": "cdf15f5f608544d9b9132c6a585e258b",
       "version_major": 2,
       "version_minor": 0
      },
      "text/plain": [
       "Downloading tokenizer_config.json:   0%|          | 0.00/966 [00:00<?, ?B/s]"
      ]
     },
     "metadata": {},
     "output_type": "display_data"
    },
    {
     "data": {
      "application/vnd.jupyter.widget-view+json": {
       "model_id": "a1771651202c4f2cbe846ed966cef89f",
       "version_major": 2,
       "version_minor": 0
      },
      "text/plain": [
       "Downloading tokenizer.model:   0%|          | 0.00/493k [00:00<?, ?B/s]"
      ]
     },
     "metadata": {},
     "output_type": "display_data"
    },
    {
     "data": {
      "application/vnd.jupyter.widget-view+json": {
       "model_id": "587cc9c89b744bf0b60f43d14e358ba2",
       "version_major": 2,
       "version_minor": 0
      },
      "text/plain": [
       "Downloading tokenizer.json:   0%|          | 0.00/1.80M [00:00<?, ?B/s]"
      ]
     },
     "metadata": {},
     "output_type": "display_data"
    },
    {
     "data": {
      "application/vnd.jupyter.widget-view+json": {
       "model_id": "7781456bbbe74e839fb87819dd7c3d59",
       "version_major": 2,
       "version_minor": 0
      },
      "text/plain": [
       "Downloading (…)cial_tokens_map.json:   0%|          | 0.00/72.0 [00:00<?, ?B/s]"
      ]
     },
     "metadata": {},
     "output_type": "display_data"
    }
   ],
   "source": [
    "# mistralai/Mistral-7B-v0.1\n",
    "model_cache_dir = '/run/determined/workdir/shared_fs/mistral_cache/mistral_7b_cache'\n",
    "tokenizer_cache_dir = '/run/determined/workdir/shared_fs/mistral_cache/mistral_7b_tokenizer_cache'\n",
    "model = AutoModelForCausalLM.from_pretrained(\"mistralai/Mistral-7B-v0.1\",cache_dir=model_cache_dir)\n",
    "tokenizer = AutoTokenizer.from_pretrained(\"mistralai/Mistral-7B-v0.1\",cache_dir=tokenizer_cache_dir)"
   ]
  },
  {
   "cell_type": "code",
   "execution_count": 3,
   "id": "5eaec83c-2f55-4eec-b41e-53a24958abf5",
   "metadata": {},
   "outputs": [],
   "source": [
    "model.save_pretrained('/run/determined/workdir/shared_fs/mistral_pretrained/mistral-7b-model')\n"
   ]
  },
  {
   "cell_type": "code",
   "execution_count": 4,
   "id": "139cfc0e-5752-46e8-a509-0ec0aebe4402",
   "metadata": {},
   "outputs": [
    {
     "data": {
      "text/plain": [
       "('/run/determined/workdir/shared_fs/mistral_pretrained/mistral-7b-tokenizer/tokenizer_config.json',\n",
       " '/run/determined/workdir/shared_fs/mistral_pretrained/mistral-7b-tokenizer/special_tokens_map.json',\n",
       " '/run/determined/workdir/shared_fs/mistral_pretrained/mistral-7b-tokenizer/tokenizer.model',\n",
       " '/run/determined/workdir/shared_fs/mistral_pretrained/mistral-7b-tokenizer/added_tokens.json',\n",
       " '/run/determined/workdir/shared_fs/mistral_pretrained/mistral-7b-tokenizer/tokenizer.json')"
      ]
     },
     "execution_count": 4,
     "metadata": {},
     "output_type": "execute_result"
    }
   ],
   "source": [
    "tokenizer.save_pretrained('/run/determined/workdir/shared_fs/mistral_pretrained/mistral-7b-tokenizer')"
   ]
  },
  {
   "cell_type": "code",
   "execution_count": null,
   "id": "677369e2-f564-4905-a6ac-97bbfde63e74",
   "metadata": {},
   "outputs": [],
   "source": [
    "# uncomment to download mistral instruct \n",
    "# model_cache_dir = '/run/determined/workdir/shared_fs/mistral_cache/mistral_instruct_cache'\n",
    "# tokenizer_cache_dir = '/run/determined/workdir/shared_fs/mistral_cache/mistral_instruct_tokenizer_cache'\n",
    "# model = AutoModelForCausalLM.from_pretrained(\"mistralai/Mistral-7B-Instruct-v0.1\",cache_dir=model_cache_dir)\n",
    "# tokenizer = AutoTokenizer.from_pretrained(\"mistralai/Mistral-7B-Instruct-v0.1\",cache_dir=tokenizer_cache_dir)\n"
   ]
  },
  {
   "cell_type": "code",
   "execution_count": null,
   "id": "152349a3-84ed-432d-8973-64fd53c6400b",
   "metadata": {},
   "outputs": [],
   "source": [
    "# model.save_pretrained('/run/determined/workdir/shared_fs/mistral_pretrained/mistral-instruct-7b-model')\n",
    "# tokenizer.save_pretrained('/run/determined/workdir/shared_fs/mistral_pretrained/mistral-instruct-7b-tokenizer')"
   ]
  },
  {
   "cell_type": "code",
   "execution_count": null,
   "id": "4e9c7308-593e-42a5-a006-9f3c4e1ed56f",
   "metadata": {},
   "outputs": [],
   "source": [
    "!ls /run/determined/workdir/shared_fs/mistral_pretrained/"
   ]
  },
  {
   "cell_type": "code",
   "execution_count": null,
   "id": "85638464-b316-4aee-b250-decf904a06eb",
   "metadata": {},
   "outputs": [],
   "source": []
  }
 ],
 "metadata": {
  "kernelspec": {
   "display_name": "Python 3 (ipykernel)",
   "language": "python",
   "name": "python3"
  },
  "language_info": {
   "codemirror_mode": {
    "name": "ipython",
    "version": 3
   },
   "file_extension": ".py",
   "mimetype": "text/x-python",
   "name": "python",
   "nbconvert_exporter": "python",
   "pygments_lexer": "ipython3",
   "version": "3.8.18"
  }
 },
 "nbformat": 4,
 "nbformat_minor": 5
}
