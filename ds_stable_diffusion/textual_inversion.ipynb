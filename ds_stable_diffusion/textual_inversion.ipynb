{
 "cells": [
  {
   "attachments": {},
   "cell_type": "markdown",
   "id": "eb1ef071",
   "metadata": {},
   "source": [
    "<img src=\"./detsd/hpe_logo.png\" alt=\"HPE Logo\" width=\"300\">"
   ]
  },
  {
   "attachments": {},
   "cell_type": "markdown",
   "id": "09ee9f88",
   "metadata": {
    "pycharm": {
     "name": "#%% md\n"
    }
   },
   "source": [
    "# Textual Inversion (Stable Diffusion) with Determined.AI\n",
    "\n",
    "Stable Diffusion is a deep learning, text-to-image model released in 2022. </br>It is primarily used to generate detailed images conditioned on text descriptions, though it can also be applied to other tasks such as inpainting, outpainting, and generating image-to-image translations guided by a text prompt. </br>It was developed by the start-up Stability AI in collaboration with a number of academic researchers and non-profit organizations.\n",
    "\n",
    "For this exercise, we will leverage stable diffusion from Huggingface here: https://huggingface.co/runwayml/stable-diffusion-v1-5. </br>\n",
    "Determined.AI is an ideal platform to finetune models from a modelhub like Huggingface. In this case, we already did the training of the model to teach it what a `det-logo-demo` means.\n",
    "\n",
    "Here is our Determined.AI logo:</br> </br>\n",
    "<img src=\"./detsd/det_logo.png\" alt=\"Determined Logo\" width=\"150\">\n",
    "\n",
    "This notebook generates images from the trained textual inversion models generated with the `detsd.DetSDTextualInversionTrainer` class and saved as Determined checkpoints.AI."
   ]
  },
  {
   "attachments": {},
   "cell_type": "markdown",
   "id": "c426e42f",
   "metadata": {
    "pycharm": {
     "name": "#%% md\n"
    }
   },
   "source": [
    "## Step 1: Creating the Pipeline"
   ]
  },
  {
   "cell_type": "markdown",
   "id": "3e5ad4d0",
   "metadata": {
    "pycharm": {
     "name": "#%% md\n"
    }
   },
   "source": [
    "Import the `DetSDTextualInversionPipeline` class from `detsd.py` (loaded via the `--context` flag above), which will be used to generate Stable Diffusion images."
   ]
  },
  {
   "cell_type": "code",
   "execution_count": null,
   "id": "8dd88c3a",
   "metadata": {
    "collapsed": false,
    "jupyter": {
     "outputs_hidden": false
    },
    "pycharm": {
     "name": "#%%\n"
    }
   },
   "outputs": [],
   "source": [
    "import torch\n",
    "from detsd import DetSDTextualInversionPipeline"
   ]
  },
  {
   "cell_type": "markdown",
   "id": "10b3dc72",
   "metadata": {
    "pycharm": {
     "name": "#%% md\n"
    }
   },
   "source": [
    "Instantiate the pipeline with the default arguments:"
   ]
  },
  {
   "cell_type": "code",
   "execution_count": null,
   "id": "f6a00b1d",
   "metadata": {
    "collapsed": false,
    "jupyter": {
     "outputs_hidden": false
    },
    "pycharm": {
     "name": "#%%\n"
    }
   },
   "outputs": [],
   "source": [
    "detsd_pipeline = DetSDTextualInversionPipeline()"
   ]
  },
  {
   "attachments": {},
   "cell_type": "markdown",
   "id": "38cb20a2",
   "metadata": {
    "pycharm": {
     "name": "#%% md\n"
    }
   },
   "source": [
    "## Step 2: Load Determined Checkpoints"
   ]
  },
  {
   "cell_type": "markdown",
   "id": "058eedd9",
   "metadata": {
    "pycharm": {
     "name": "#%% md\n"
    }
   },
   "source": [
    "We can now load textual-inversion checkpoints into the model. They are assumed to have been trained with `DetSDTextualInversionTrainer`, also contained in `detsd.py`.  These Determined checkpoints can be specified by their uuid, assuming all such checkpoints exist on the master we are currently logged into."
   ]
  },
  {
   "attachments": {},
   "cell_type": "markdown",
   "id": "673aa823",
   "metadata": {
    "pycharm": {
     "name": "#%% md\n"
    }
   },
   "source": [
    "Please go to the Determined.AI Cluster UI and find the project, experiment and the best checkpoint for a detsd finetune experiment. Fill in the `uuids` list below with the `uuid` `str` values of the best Determined.AI checkpoint you can find. (Replace `FIX ME` with checkpoint UUID)"
   ]
  },
  {
   "cell_type": "code",
   "execution_count": null,
   "id": "912e0a98",
   "metadata": {
    "collapsed": false,
    "jupyter": {
     "outputs_hidden": false
    },
    "pycharm": {
     "name": "#%%\n"
    }
   },
   "outputs": [],
   "source": [
    "uuids = [\"FIX ME\"]\n",
    "detsd_pipeline.load_from_uuids(uuids)"
   ]
  },
  {
   "attachments": {},
   "cell_type": "markdown",
   "id": "b9079e23-1544-49c1-801d-133c54a04f13",
   "metadata": {},
   "source": [
    "A sample embedding is also included in this environment (with corresponding concept token `det-logo-demo`) and can be loaded in as follows:"
   ]
  },
  {
   "cell_type": "code",
   "execution_count": null,
   "id": "4f8ac6b2-9987-4ddb-b83b-b630b3bd7b7e",
   "metadata": {},
   "outputs": [],
   "source": [
    "from os.path import exists\n",
    "demo_concept_path = 'learned_embeddings_dict_demo.pt'\n",
    "if exists(demo_concept_path):\n",
    "    detsd_pipeline.load_from_checkpoint_dir(checkpoint_dir='.', learned_embeddings_filename='learned_embeddings_dict_demo.pt')"
   ]
  },
  {
   "attachments": {},
   "cell_type": "markdown",
   "id": "60ae783f",
   "metadata": {
    "pycharm": {
     "name": "#%% md\n"
    }
   },
   "source": [
    "## Step 3: Generate Images\n",
    "\n",
    "Finally, let's generate some art."
   ]
  },
  {
   "cell_type": "markdown",
   "id": "58bbee51",
   "metadata": {
    "pycharm": {
     "name": "#%% md\n"
    }
   },
   "source": [
    "Grab the first concept which was loaded into the pipeline and store it as `first_concept`.  If no concepts were loaded above, fall back to using `brain logo, sharp lines, connected circles, concept art` as a default value for `first_concept`; vanilla Stable Diffusion is being used in this case."
   ]
  },
  {
   "cell_type": "code",
   "execution_count": null,
   "id": "d88578a4",
   "metadata": {
    "collapsed": false,
    "jupyter": {
     "outputs_hidden": false
    },
    "pycharm": {
     "name": "#%%\n"
    }
   },
   "outputs": [],
   "source": [
    "all_added_concepts = detsd_pipeline.all_added_concepts\n",
    "if all_added_concepts:\n",
    "    first_concept = all_added_concepts[0]\n",
    "else:\n",
    "    first_concept = 'brain logo, sharp lines, connected circles, concept art'\n",
    "print(f'Using \"{first_concept}\" as first_concept in the below\\n')\n",
    "print(f'All available concepts: {all_added_concepts}')"
   ]
  },
  {
   "cell_type": "markdown",
   "id": "5159f832",
   "metadata": {},
   "source": [
    "Create a directory for saved images and an index for tracking the number of images created."
   ]
  },
  {
   "cell_type": "code",
   "execution_count": null,
   "id": "c1e0ce5c",
   "metadata": {},
   "outputs": [],
   "source": [
    "save_dir = 'generated_images'\n",
    "! mkdir {save_dir}\n",
    "num_generated_images = 0"
   ]
  },
  {
   "attachments": {},
   "cell_type": "markdown",
   "id": "cc9edc62",
   "metadata": {},
   "source": [
    "### Step 3.1: Running the model with a custom text prompt"
   ]
  },
  {
   "cell_type": "markdown",
   "id": "10a36244",
   "metadata": {},
   "source": [
    "The below code uses creates `batch_size * num_images_per_prompt` total images from the prompt.\n",
    "\n",
    "If you are generating using the demo embedding with `det-logo-demo` as `first_concept`, we recommend setting the guidance scale to a relatively low value, e.g. ~3."
   ]
  },
  {
   "cell_type": "code",
   "execution_count": null,
   "id": "2c85a4c1",
   "metadata": {
    "collapsed": false,
    "jupyter": {
     "outputs_hidden": false
    },
    "pycharm": {
     "name": "#%%\n"
    }
   },
   "outputs": [],
   "source": [
    "prompt = f'a watercolor painting on textured paper of a {first_concept} using soft strokes, pastel colors, incredible composition, masterpiece'\n",
    "batch_size = 2\n",
    "num_images_per_prompt = 2\n",
    "\n",
    "generator = torch.Generator(device='cuda').manual_seed(2147483647)\n",
    "output = detsd_pipeline(prompt=[prompt] * batch_size,\n",
    "                        num_images_per_prompt=num_images_per_prompt,\n",
    "                        num_inference_steps=50,\n",
    "                        generator=generator,\n",
    "                        guidance_scale=7.5\n",
    "                       )"
   ]
  },
  {
   "cell_type": "markdown",
   "id": "384d0bff",
   "metadata": {},
   "source": [
    "Visualize and save:"
   ]
  },
  {
   "cell_type": "code",
   "execution_count": null,
   "id": "0002d5f0",
   "metadata": {
    "collapsed": false,
    "jupyter": {
     "outputs_hidden": false
    },
    "pycharm": {
     "name": "#%%\n"
    }
   },
   "outputs": [],
   "source": [
    "from pathlib import Path\n",
    "\n",
    "for img, nsfw in zip(output.images, output.nsfw_content_detected):\n",
    "    # Skip black images which are made when NSFW is detected.\n",
    "    if not nsfw:\n",
    "        num_generated_images += 1\n",
    "        display(img)\n",
    "        img.save(Path(save_dir).joinpath(f'{num_generated_images}.png'))"
   ]
  },
  {
   "cell_type": "markdown",
   "id": "a035b9c7",
   "metadata": {
    "pycharm": {
     "name": "#%% md\n"
    }
   },
   "source": [
    "Explanation the some arguments above:\n",
    "* `num_inference_steps`: how many steps to run the generation process for. ~50 is typical\n",
    "* `guidance_scale`: tunes how much weight is given to the prompt during generation. 7.5 is the default, with larger numbers leading to stronger adherence to the prompt.\n",
    "* `generator`: pass in a fixed `torch.Generator` instance for reproducible results.\n",
    "\n",
    "`DetSDTextualInversionPipeline`'s `__call__` method accepts the same arguments as its underlying Huggingface `StableDiffusionPipeline` instance; see the [Hugging Face documentation](https://huggingface.co/docs/diffusers/main/en/api/pipelines/stable_diffusion#diffusers.StableDiffusionPipeline.__call__) for information on all available arguments."
   ]
  },
  {
   "attachments": {},
   "cell_type": "markdown",
   "id": "7341b970",
   "metadata": {},
   "source": [
    "## Step 4: Yes, this is a competition!\n",
    "\n",
    "By running the cells above you have most likely gotten some nice Determined.AI logos with some watercolor painting theme. That's great, <b>but this is a competition!</b></br>\n",
    "Repeat step 3.1 as many times as you want and try to adjust the following parameters:\n",
    "\n",
    "- prompt (always include the `{first_concept}`)\n",
    "- num_inference_steps=50\n",
    "- guidance_scale=7.5\n",
    "\n",
    "Your goal is to create the most amazing, creative, realistic, or astonishing image with the concept of a Determined.AI logo.\n",
    "Make sure to save the images you like! Towards the end of the contest, move on to step 5, where your group will upload one image as your \"best shot\".\n",
    "The image will be entered into the competition of this event and all attendees will vote on the most creative images. The winning group will receive a price!\n",
    "\n",
    "<b>Good luck!</b>"
   ]
  },
  {
   "attachments": {},
   "cell_type": "markdown",
   "id": "ed11d884",
   "metadata": {},
   "source": [
    "## Step 5: Upload your image to participate in the voting"
   ]
  },
  {
   "attachments": {},
   "cell_type": "markdown",
   "id": "1f4f3289",
   "metadata": {},
   "source": [
    "Once you are sure that you have the best possible image, please upload it on this page by clicking `Upload Photos`: https://app.kululu.me/album/gs5r92 </br></br>\n",
    "<b>IMPORTANT:</b> When you selected your image, you have to option to click `Add Caption`. Please add all your names and the group number to the caption like so:\n",
    "\n",
    "<img src=\"./detsd/example.png\" alt=\"Example\" width=\"450\">\n",
    "\n",
    "<b>NOTE:</b> Every group is only allowed to upload one image!"
   ]
  },
  {
   "cell_type": "markdown",
   "id": "a4675503",
   "metadata": {},
   "source": []
  }
 ],
 "metadata": {
  "kernelspec": {
   "display_name": "Python 3 (ipykernel)",
   "language": "python",
   "name": "python3"
  },
  "language_info": {
   "codemirror_mode": {
    "name": "ipython",
    "version": 3
   },
   "file_extension": ".py",
   "mimetype": "text/x-python",
   "name": "python",
   "nbconvert_exporter": "python",
   "pygments_lexer": "ipython3",
   "version": "3.8.13"
  },
  "vscode": {
   "interpreter": {
    "hash": "274db8ed5a5b9f1d7e673d5dc8f73328ebbaf45fbf7c788fee56d02d0eb8b109"
   }
  }
 },
 "nbformat": 4,
 "nbformat_minor": 5
}
